{
 "cells": [
  {
   "cell_type": "markdown",
   "metadata": {},
   "source": [
    "## NGS Coverage Reporter"
   ]
  },
  {
   "cell_type": "markdown",
   "metadata": {},
   "source": [
    "To generate a report on coverage of specific genes: \n",
    "\n",
    "1) Upload Bam file by clicking 'Browse'. \n",
    "\n",
    "2) Select which gene database to consider coverage on and other specifications - transcript type and genomic or exonic locations\n",
    "\n",
    "3) Type in gene name or gene list -  Gene name in caps seperated by comma for multiple genes. "
   ]
  },
  {
   "cell_type": "code",
   "execution_count": 1,
   "metadata": {
    "scrolled": true
   },
   "outputs": [
    {
     "data": {
      "application/vnd.jupyter.widget-view+json": {
       "model_id": "98b50dc9d9bd42959d0ec03cd7cc5e4a",
       "version_major": 2,
       "version_minor": 0
      },
      "text/html": [
       "<p>Failed to display Jupyter Widget of type <code>Dropdown</code>.</p>\n",
       "<p>\n",
       "  If you're reading this message in the Jupyter Notebook or JupyterLab Notebook, it may mean\n",
       "  that the widgets JavaScript is still loading. If this message persists, it\n",
       "  likely means that the widgets JavaScript library is either not installed or\n",
       "  not enabled. See the <a href=\"https://ipywidgets.readthedocs.io/en/stable/user_install.html\">Jupyter\n",
       "  Widgets Documentation</a> for setup instructions.\n",
       "</p>\n",
       "<p>\n",
       "  If you're reading this message in another frontend (for example, a static\n",
       "  rendering on GitHub or <a href=\"https://nbviewer.jupyter.org/\">NBViewer</a>),\n",
       "  it may mean that your frontend doesn't currently support widgets.\n",
       "</p>\n"
      ],
      "text/plain": [
       "Dropdown(description=u'Database:', options=('UCSC',), value='UCSC')"
      ]
     },
     "metadata": {},
     "output_type": "display_data"
    }
   ],
   "source": [
    "import ipywidgets as widgets\n",
    "geneDatabase = widgets.Dropdown(\n",
    "    options=['UCSC'],\n",
    "    value='UCSC',\n",
    "    description='Database:',\n",
    "    disabled=False,\n",
    ")\n",
    "geneDatabase"
   ]
  },
  {
   "cell_type": "code",
   "execution_count": 2,
   "metadata": {},
   "outputs": [
    {
     "data": {
      "application/vnd.jupyter.widget-view+json": {
       "model_id": "7457d176b4634717b4bd174153bee406",
       "version_major": 2,
       "version_minor": 0
      },
      "text/html": [
       "<p>Failed to display Jupyter Widget of type <code>Dropdown</code>.</p>\n",
       "<p>\n",
       "  If you're reading this message in the Jupyter Notebook or JupyterLab Notebook, it may mean\n",
       "  that the widgets JavaScript is still loading. If this message persists, it\n",
       "  likely means that the widgets JavaScript library is either not installed or\n",
       "  not enabled. See the <a href=\"https://ipywidgets.readthedocs.io/en/stable/user_install.html\">Jupyter\n",
       "  Widgets Documentation</a> for setup instructions.\n",
       "</p>\n",
       "<p>\n",
       "  If you're reading this message in another frontend (for example, a static\n",
       "  rendering on GitHub or <a href=\"https://nbviewer.jupyter.org/\">NBViewer</a>),\n",
       "  it may mean that your frontend doesn't currently support widgets.\n",
       "</p>\n"
      ],
      "text/plain": [
       "Dropdown(description=u'Transcript:', index=1, options=('Canonical', 'Biggest'), value='Biggest')"
      ]
     },
     "metadata": {},
     "output_type": "display_data"
    }
   ],
   "source": [
    "import ipywidgets as widgets\n",
    "transcriptChoice = widgets.Dropdown(\n",
    "    options=['Canonical', 'Biggest'],\n",
    "    value='Biggest',\n",
    "    description='Transcript:',\n",
    "    disabled=False,\n",
    ")\n",
    "transcriptChoice"
   ]
  },
  {
   "cell_type": "code",
   "execution_count": 3,
   "metadata": {},
   "outputs": [
    {
     "data": {
      "application/vnd.jupyter.widget-view+json": {
       "model_id": "926bafeda9214523a8ab557d26c885d6",
       "version_major": 2,
       "version_minor": 0
      },
      "text/html": [
       "<p>Failed to display Jupyter Widget of type <code>Dropdown</code>.</p>\n",
       "<p>\n",
       "  If you're reading this message in the Jupyter Notebook or JupyterLab Notebook, it may mean\n",
       "  that the widgets JavaScript is still loading. If this message persists, it\n",
       "  likely means that the widgets JavaScript library is either not installed or\n",
       "  not enabled. See the <a href=\"https://ipywidgets.readthedocs.io/en/stable/user_install.html\">Jupyter\n",
       "  Widgets Documentation</a> for setup instructions.\n",
       "</p>\n",
       "<p>\n",
       "  If you're reading this message in another frontend (for example, a static\n",
       "  rendering on GitHub or <a href=\"https://nbviewer.jupyter.org/\">NBViewer</a>),\n",
       "  it may mean that your frontend doesn't currently support widgets.\n",
       "</p>\n"
      ],
      "text/plain": [
       "Dropdown(description=u'Location:', options=('Genomic', 'Exonic'), value='Genomic')"
      ]
     },
     "metadata": {},
     "output_type": "display_data"
    }
   ],
   "source": [
    "import ipywidgets as widgets\n",
    "Location = widgets.Dropdown(\n",
    "    options=['Genomic', 'Exonic'],\n",
    "    value='Genomic',\n",
    "    description='Location:',\n",
    "    disabled=False,\n",
    ")\n",
    "Location"
   ]
  },
  {
   "cell_type": "code",
   "execution_count": 4,
   "metadata": {},
   "outputs": [
    {
     "data": {
      "application/vnd.jupyter.widget-view+json": {
       "model_id": "6810e222166545e3b863bbd31c42a42d",
       "version_major": 2,
       "version_minor": 0
      },
      "text/html": [
       "<p>Failed to display Jupyter Widget of type <code>Textarea</code>.</p>\n",
       "<p>\n",
       "  If you're reading this message in the Jupyter Notebook or JupyterLab Notebook, it may mean\n",
       "  that the widgets JavaScript is still loading. If this message persists, it\n",
       "  likely means that the widgets JavaScript library is either not installed or\n",
       "  not enabled. See the <a href=\"https://ipywidgets.readthedocs.io/en/stable/user_install.html\">Jupyter\n",
       "  Widgets Documentation</a> for setup instructions.\n",
       "</p>\n",
       "<p>\n",
       "  If you're reading this message in another frontend (for example, a static\n",
       "  rendering on GitHub or <a href=\"https://nbviewer.jupyter.org/\">NBViewer</a>),\n",
       "  it may mean that your frontend doesn't currently support widgets.\n",
       "</p>\n"
      ],
      "text/plain": [
       "Textarea(value=u'', description=u'Gene List:', placeholder=u'Type here')"
      ]
     },
     "metadata": {},
     "output_type": "display_data"
    }
   ],
   "source": [
    "import ipywidgets as widgets\n",
    "genes = widgets.Textarea(\n",
    "    value='',\n",
    "    placeholder='Type here',\n",
    "    description='Gene List:',\n",
    "    disabled=False\n",
    ")\n",
    "genes"
   ]
  },
  {
   "cell_type": "code",
   "execution_count": 5,
   "metadata": {},
   "outputs": [
    {
     "name": "stderr",
     "output_type": "stream",
     "text": [
      "[bam_header_read] EOF marker is absent. The input is probably truncated.\n",
      "[main_samview] truncated file.\n"
     ]
    }
   ],
   "source": [
    "%%bash -s \n",
    "samtools view example2_bam.bam | head -n1 | awk '$3 ~ \"hr\"' | wc -l > checkbam.txt"
   ]
  },
  {
   "cell_type": "code",
   "execution_count": null,
   "metadata": {},
   "outputs": [],
   "source": [
    "with open('checkbam.txt', 'r') as checkbam:\n",
    "    wc = checkbam.readlines()\n",
    "    \n",
    "geneList = genes.value.split(', ')\n",
    "\n",
    "for line in wc:\n",
    "    wcsplit = line.strip()\n",
    "    if wcsplit == '0':\n",
    "        if transcriptChoice.value == 'Biggest':\n",
    "            if Location.value == 'Genomic':\n",
    "                refBed = open('UCSC_reference_beds/Biggest_Txpts/sorted_biggest_genomic_coordinates.bed', 'r')\n",
    "                lines = refBed.readlines()\n",
    "                refBed.close()\n",
    "                arrayBed = []\n",
    "                for line in lines:\n",
    "                    cleanNewLine = line.strip()\n",
    "                    arrayWithin = []\n",
    "                    arrayWithin = cleanNewLine.split()\n",
    "                    arrayWithin[1] = int(arrayWithin[1])\n",
    "                    arrayWithin[2] = int(arrayWithin[2])\n",
    "                    arrayBed.append(arrayWithin)\n",
    "                genePosBed = []   \n",
    "                for x in arrayBed:\n",
    "                    if x[3] in geneList:\n",
    "                        genePosBed.append(x[0:4])\n",
    "                with open('bedGeneRegions.bed','w') as outputFile:\n",
    "                    for gene in genePosBed:\n",
    "                        outputFile.write(gene[0] + '\\t' + '{}'.format(gene[1]) + '\\t' + '{}'.format(gene[2]) + '\\t' + gene[3] + '\\n')\n",
    "            elif Location.value == 'Exonic':\n",
    "                refBed = open('UCSC_reference_beds/Biggest_Txpts/sorted_biggest_exonic_coordinates.bed', 'r')\n",
    "                lines = refBed.readlines()\n",
    "                refBed.close()\n",
    "                arrayBed = []\n",
    "                for line in lines:\n",
    "                    cleanNewLine = line.strip()\n",
    "                    arrayWithin = []\n",
    "                    arrayWithin = cleanNewLine.split()\n",
    "                    arrayWithin[1] = int(arrayWithin[1])\n",
    "                    arrayWithin[2] = int(arrayWithin[2])\n",
    "                    arrayBed.append(arrayWithin)\n",
    "                genePosBed = []   \n",
    "                for x in arrayBed:\n",
    "                    if x[3] in geneList:\n",
    "                        genePosBed.append(x[0:4])            \n",
    "                with open('bedGeneRegions.bed','w') as outputFile:\n",
    "                    for gene in genePosBed:\n",
    "                        outputFile.write(gene[0] + '\\t' + '{}'.format(gene[1]) + '\\t' + '{}'.format(gene[2]) + '\\t' + gene[3] + '\\n')   \n",
    "        elif transcriptChoice.value == 'Canonical':\n",
    "            if Location.value == 'Genomic':\n",
    "                refBed = open('UCSC_reference_beds/Canonical_Txpts/sorted_canonical_genomic_coordinates.bed', 'r')\n",
    "                lines = refBed.readlines()\n",
    "                refBed.close()\n",
    "                arrayBed = []\n",
    "                for line in lines:\n",
    "                    cleanNewLine = line.strip()\n",
    "                    arrayWithin = []\n",
    "                    arrayWithin = cleanNewLine.split()\n",
    "                    arrayWithin[1] = int(arrayWithin[1])\n",
    "                    arrayWithin[2] = int(arrayWithin[2])\n",
    "                    arrayBed.append(arrayWithin)\n",
    "                genePosBed = []   \n",
    "                for x in arrayBed:\n",
    "                    if x[3] in geneList:\n",
    "                        genePosBed.append(x[0:4])\n",
    "                with open('bedGeneRegions.bed','w') as outputFile:\n",
    "                    for gene in genePosBed:\n",
    "                        outputFile.write(gene[0] + '\\t' + '{}'.format(gene[1]) + '\\t' + '{}'.format(gene[2]) + '\\t' + gene[3] + '\\n')\n",
    "            elif Location.value == 'Exonic':\n",
    "                refBed = open('UCSC_reference_beds/Canonical_Txpts/sorted_canonical_exonic_coordinates.bed', 'r')\n",
    "                lines = refBed.readlines()\n",
    "                refBed.close()\n",
    "                arrayBed = []\n",
    "                for line in lines:\n",
    "                    cleanNewLine = line.strip()\n",
    "                    arrayWithin = []\n",
    "                    arrayWithin = cleanNewLine.split()\n",
    "                    arrayWithin[1] = int(arrayWithin[1])\n",
    "                    arrayWithin[2] = int(arrayWithin[2])\n",
    "                    arrayBed.append(arrayWithin)\n",
    "                genePosBed = []   \n",
    "                for x in arrayBed:\n",
    "                    if x[3] in geneList:\n",
    "                        genePosBed.append(x[0:4])            \n",
    "                with open('bedGeneRegions.bed','w') as outputFile:\n",
    "                    for gene in genePosBed:\n",
    "                        outputFile.write(gene[0] + '\\t' + '{}'.format(gene[1]) + '\\t' + '{}'.format(gene[2]) + '\\t' + gene[3] + '\\n')   \n",
    "    if wcsplit == '1':\n",
    "        if transcriptChoice.value == 'Biggest':\n",
    "            if Location.value == 'Genomic':\n",
    "                refBed = open('UCSC_reference_beds/Biggest_Txpts/wchr_sorted_biggest_genomic_coordinates.bed', 'r')\n",
    "                lines = refBed.readlines()\n",
    "                refBed.close()\n",
    "                arrayBed = []\n",
    "                for line in lines:\n",
    "                    cleanNewLine = line.strip()\n",
    "                    arrayWithin = []\n",
    "                    arrayWithin = cleanNewLine.split()\n",
    "                    arrayWithin[1] = int(arrayWithin[1])\n",
    "                    arrayWithin[2] = int(arrayWithin[2])\n",
    "                    arrayBed.append(arrayWithin)\n",
    "                genePosBed = []   \n",
    "                for x in arrayBed:\n",
    "                    if x[3] in geneList:\n",
    "                        genePosBed.append(x[0:4])\n",
    "                with open('bedGeneRegions.bed','w') as outputFile:\n",
    "                    for gene in genePosBed:\n",
    "                        outputFile.write(gene[0] + '\\t' + '{}'.format(gene[1]) + '\\t' + '{}'.format(gene[2]) + '\\t' + gene[3] + '\\n')\n",
    "            elif Location.value == 'Exonic':\n",
    "                refBed = open('UCSC_reference_beds/Biggest_Txpts/wchr_sorted_biggest_exonic_coordinates.bed', 'r')\n",
    "                lines = refBed.readlines()\n",
    "                refBed.close()\n",
    "                arrayBed = []\n",
    "                for line in lines:\n",
    "                    cleanNewLine = line.strip()\n",
    "                    arrayWithin = []\n",
    "                    arrayWithin = cleanNewLine.split()\n",
    "                    arrayWithin[1] = int(arrayWithin[1])\n",
    "                    arrayWithin[2] = int(arrayWithin[2])\n",
    "                    arrayBed.append(arrayWithin)\n",
    "                genePosBed = []   \n",
    "                for x in arrayBed:\n",
    "                    if x[3] in geneList:\n",
    "                        genePosBed.append(x[0:4])            \n",
    "                with open('bedGeneRegions.bed','w') as outputFile:\n",
    "                    for gene in genePosBed:\n",
    "                        outputFile.write(gene[0] + '\\t' + '{}'.format(gene[1]) + '\\t' + '{}'.format(gene[2]) + '\\t' + gene[3] + '\\n')   \n",
    "        elif transcriptChoice.value == 'Canonical':\n",
    "            if Location.value == 'Genomic':\n",
    "                refBed = open('UCSC_reference_beds/Canonical_Txpts/wchr_sorted_canonical_genomic_coordinates.bed', 'r')\n",
    "                lines = refBed.readlines()\n",
    "                refBed.close()\n",
    "                arrayBed = []\n",
    "                for line in lines:\n",
    "                    cleanNewLine = line.strip()\n",
    "                    arrayWithin = []\n",
    "                    arrayWithin = cleanNewLine.split()\n",
    "                    arrayWithin[1] = int(arrayWithin[1])\n",
    "                    arrayWithin[2] = int(arrayWithin[2])\n",
    "                    arrayBed.append(arrayWithin)\n",
    "                genePosBed = []   \n",
    "                for x in arrayBed:\n",
    "                    if x[3] in geneList:\n",
    "                        genePosBed.append(x[0:4])\n",
    "                with open('bedGeneRegions.bed','w') as outputFile:\n",
    "                    for gene in genePosBed:\n",
    "                        outputFile.write(gene[0] + '\\t' + '{}'.format(gene[1]) + '\\t' + '{}'.format(gene[2]) + '\\t' + gene[3] + '\\n')\n",
    "            elif Location.value == 'Exonic':\n",
    "                refBed = open('UCSC_reference_beds/Canonical_Txpts/wchr_sorted_canonical_exonic_coordinates.bed', 'r')\n",
    "                lines = refBed.readlines()\n",
    "                refBed.close()\n",
    "                arrayBed = []\n",
    "                for line in lines:\n",
    "                    cleanNewLine = line.strip()\n",
    "                    arrayWithin = []\n",
    "                    arrayWithin = cleanNewLine.split()\n",
    "                    arrayWithin[1] = int(arrayWithin[1])\n",
    "                    arrayWithin[2] = int(arrayWithin[2])\n",
    "                    arrayBed.append(arrayWithin)\n",
    "                genePosBed = []   \n",
    "                for x in arrayBed:\n",
    "                    if x[3] in geneList:\n",
    "                        genePosBed.append(x[0:4])            \n",
    "                with open('bedGeneRegions.bed','w') as outputFile:\n",
    "                    for gene in genePosBed:\n",
    "                        outputFile.write(gene[0] + '\\t' + '{}'.format(gene[1]) + '\\t' + '{}'.format(gene[2]) + '\\t' + gene[3] + '\\n')   \n"
   ]
  },
  {
   "cell_type": "code",
   "execution_count": 7,
   "metadata": {},
   "outputs": [
    {
     "name": "stderr",
     "output_type": "stream",
     "text": [
      "Processing reference #1 (1)\n",
      "sambamba-depth: Error reading BGZF block starting from offset 522125: stream error: not enough data in stream\n"
     ]
    }
   ],
   "source": [
    "%%bash -s \n",
    "./sambamba depth base -F \"mapping_quality >= 0\" -L bedGeneRegions.bed example2_bam.bam > sambambaOutput"
   ]
  },
  {
   "cell_type": "code",
   "execution_count": null,
   "metadata": {},
   "outputs": [],
   "source": [
    "%run -i raw_stats_interpreter.py -l sambambaOutput -r cohort -b"
   ]
  },
  {
   "cell_type": "code",
   "execution_count": null,
   "metadata": {},
   "outputs": [],
   "source": [
    "%%bash\n",
    "sed 1d sambambaOutput | cut -f2 > Pos"
   ]
  },
  {
   "cell_type": "code",
   "execution_count": null,
   "metadata": {},
   "outputs": [],
   "source": [
    "%%bash\n",
    "sed 1d sambambaOutput | cut -f3 > Cov"
   ]
  },
  {
   "cell_type": "code",
   "execution_count": null,
   "metadata": {},
   "outputs": [],
   "source": [
    "PosList = open('Pos', 'r')\n",
    "Positions = PosList.readlines()\n",
    "PosList.close()\n",
    "PositionList= []\n",
    "for p in Positions:\n",
    "    position = p.strip()\n",
    "    PositionList.append(position)\n",
    "PositionList = [int(i) for i in PositionList]\n",
    "\n",
    "    "
   ]
  },
  {
   "cell_type": "code",
   "execution_count": null,
   "metadata": {},
   "outputs": [],
   "source": [
    "CovList = open('Cov', 'r')\n",
    "Coverage = CovList.readlines()\n",
    "CovList.close()\n",
    "CoverageList= []\n",
    "for c in Coverage:\n",
    "    coverag = c.strip()\n",
    "    CoverageList.append(coverag)\n",
    "CoverageList = [int(i) for i in CoverageList]\n"
   ]
  },
  {
   "cell_type": "code",
   "execution_count": null,
   "metadata": {},
   "outputs": [],
   "source": [
    "import matplotlib.pyplot as plt\n",
    "%matplotlib inline\n",
    "plt.style.use('ggplot')\n",
    "\n",
    "plt.bar(PositionList, CoverageList, color='red')\n",
    "plt.xlabel(\"Position\")\n",
    "plt.ylabel(\"Read Depth\")\n",
    "plt.title(\"Read depth at Position\")\n",
    "\n",
    "plt.show()"
   ]
  },
  {
   "cell_type": "code",
   "execution_count": null,
   "metadata": {},
   "outputs": [],
   "source": []
  }
 ],
 "metadata": {
  "kernelspec": {
   "display_name": "Python 3",
   "language": "python",
   "name": "python3"
  },
  "language_info": {
   "codemirror_mode": {
    "name": "ipython",
    "version": 2
   },
   "file_extension": ".py",
   "mimetype": "text/x-python",
   "name": "python",
   "nbconvert_exporter": "python",
   "pygments_lexer": "ipython2",
   "version": "2.7.12"
  }
 },
 "nbformat": 4,
 "nbformat_minor": 2
}
